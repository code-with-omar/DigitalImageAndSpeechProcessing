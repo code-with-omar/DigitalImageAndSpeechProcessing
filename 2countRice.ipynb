{
 "cells": [
  {
   "cell_type": "markdown",
   "id": "10af27a8",
   "metadata": {},
   "source": [
    "# Write a Python program to read ‘rice.tif’ image, count number of rice and display area (also specific range), major axis length, and perimeter."
   ]
  },
  {
   "cell_type": "code",
   "execution_count": 21,
   "id": "44763a33",
   "metadata": {},
   "outputs": [
    {
     "name": "stdout",
     "output_type": "stream",
     "text": [
      "Total Rice Grains: 77\n",
      "Average Area: 157.52597402597402\n",
      "Average Major Axis Length: 28.834813303761667\n",
      "Average Perimeter: 73.00335669981969\n"
     ]
    },
    {
     "data": {
      "image/png": "[encoded data removed]",
      "text/plain": [
       "<Figure size 640x480 with 1 Axes>"
      ]
     },
     "metadata": {},
     "output_type": "display_data"
    }
   ],
   "source": [
    "import cv2\n",
    "import numpy as np\n",
    "import matplotlib.pyplot as plt\n",
    "\n",
    "# Load the rice.tif image in grayscale\n",
    "image_path = 'rice.tif'\n",
    "image = cv2.imread(image_path, cv2.IMREAD_GRAYSCALE)\n",
    "\n",
    "# Apply thresholding to segment the rice grains\n",
    "_, binary_image = cv2.threshold(image, 120, 255, cv2.THRESH_BINARY)\n",
    "\n",
    "# Find contours of rice grains\n",
    "contours, _ = cv2.findContours(binary_image, cv2.RETR_EXTERNAL, cv2.CHAIN_APPROX_SIMPLE)\n",
    "\n",
    "# Initialize variables to store rice statistics\n",
    "total_rice = 0\n",
    "total_area = 0\n",
    "total_major_axis_length = 0\n",
    "total_perimeter = 0\n",
    "\n",
    "# Iterate through the detected rice grains\n",
    "for contour in contours:\n",
    "    area = cv2.contourArea(contour)\n",
    "    perimeter = cv2.arcLength(contour, True)\n",
    "    if area > 50:  # Filter out small noise contours\n",
    "        total_rice += 1\n",
    "        total_area += area\n",
    "        ellipse = cv2.fitEllipse(contour)\n",
    "        major_axis_length = max(ellipse[1])\n",
    "        total_major_axis_length += major_axis_length\n",
    "        total_perimeter += perimeter\n",
    "\n",
    "# Calculate average statistics\n",
    "average_area = total_area / total_rice\n",
    "average_major_axis_length = total_major_axis_length / total_rice\n",
    "average_perimeter = total_perimeter / total_rice\n",
    "\n",
    "# Display results\n",
    "print(\"Total Rice Grains:\", total_rice)\n",
    "print(\"Average Area:\", average_area)\n",
    "print(\"Average Major Axis Length:\", average_major_axis_length)\n",
    "print(\"Average Perimeter:\", average_perimeter)\n",
    "\n",
    "# Draw contours on the image\n",
    "contour_image = cv2.cvtColor(binary_image, cv2.COLOR_GRAY2BGR)\n",
    "cv2.drawContours(contour_image, contours, -1, (0, 255, 0), 2)\n",
    "plt.imshow(contour_image)\n",
    "plt.axis('off')\n",
    "plt.tight_layout()\n",
    "plt.show()\n"
   ]
  },
  {
   "cell_type": "code",
   "execution_count": null,
   "id": "7f2b72d3",
   "metadata": {},
   "outputs": [],
   "source": []
  }
 ],
 "metadata": {
  "kernelspec": {
   "display_name": "Python 3 (ipykernel)",
   "language": "python",
   "name": "python3"
  },
  "language_info": {
   "codemirror_mode": {
    "name": "ipython",
    "version": 3
   },
   "file_extension": ".py",
   "mimetype": "text/x-python",
   "name": "python",
   "nbconvert_exporter": "python",
   "pygments_lexer": "ipython3",
   "version": "3.11.2"
  }
 },
 "nbformat": 4,
 "nbformat_minor": 5
}
