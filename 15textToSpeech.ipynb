{
 "cells": [
  {
   "cell_type": "code",
   "execution_count": null,
   "id": "6f2f546a",
   "metadata": {},
   "outputs": [],
   "source": [
    "Write a MATLAB/Python program for text-to-speech conversion and record speech signal."
   ]
  },
  {
   "cell_type": "code",
   "execution_count": 2,
   "id": "9b968c6f",
   "metadata": {},
   "outputs": [
    {
     "name": "stdout",
     "output_type": "stream",
     "text": [
      "Collecting gtts\n",
      "  Downloading gTTS-2.3.2-py3-none-any.whl (28 kB)\n",
      "Requirement already satisfied: requests<3,>=2.27 in c:\\users\\omarf\\appdata\\local\\programs\\python\\python311\\lib\\site-packages (from gtts) (2.28.2)\n",
      "Collecting click<8.2,>=7.1 (from gtts)\n",
      "  Obtaining dependency information for click<8.2,>=7.1 from https://files.pythonhosted.org/packages/00/2e/d53fa4befbf2cfa713304affc7ca780ce4fc1fd8710527771b58311a3229/click-8.1.7-py3-none-any.whl.metadata\n",
      "  Downloading click-8.1.7-py3-none-any.whl.metadata (3.0 kB)\n",
      "Requirement already satisfied: colorama in c:\\users\\omarf\\appdata\\local\\programs\\python\\python311\\lib\\site-packages (from click<8.2,>=7.1->gtts) (0.4.6)\n",
      "Requirement already satisfied: charset-normalizer<4,>=2 in c:\\users\\omarf\\appdata\\local\\programs\\python\\python311\\lib\\site-packages (from requests<3,>=2.27->gtts) (3.0.1)\n",
      "Requirement already satisfied: idna<4,>=2.5 in c:\\users\\omarf\\appdata\\local\\programs\\python\\python311\\lib\\site-packages (from requests<3,>=2.27->gtts) (3.4)\n",
      "Requirement already satisfied: urllib3<1.27,>=1.21.1 in c:\\users\\omarf\\appdata\\local\\programs\\python\\python311\\lib\\site-packages (from requests<3,>=2.27->gtts) (1.26.14)\n",
      "Requirement already satisfied: certifi>=2017.4.17 in c:\\users\\omarf\\appdata\\local\\programs\\python\\python311\\lib\\site-packages (from requests<3,>=2.27->gtts) (2022.12.7)\n",
      "Downloading click-8.1.7-py3-none-any.whl (97 kB)\n",
      "   ---------------------------------------- 0.0/97.9 kB ? eta -:--:--\n",
      "   ---------------- ----------------------- 41.0/97.9 kB 1.9 MB/s eta 0:00:01\n",
      "   ---------------------------------------- 97.9/97.9 kB 1.1 MB/s eta 0:00:00\n",
      "Installing collected packages: click, gtts\n",
      "Successfully installed click-8.1.7 gtts-2.3.2\n"
     ]
    }
   ],
   "source": [
    "!pip install gtts"
   ]
  },
  {
   "cell_type": "code",
   "execution_count": 3,
   "id": "579f05db",
   "metadata": {},
   "outputs": [
    {
     "name": "stdout",
     "output_type": "stream",
     "text": [
      "Collecting sounddevice\n",
      "  Downloading sounddevice-0.4.6-py3-none-win_amd64.whl (199 kB)\n",
      "     ---------------------------------------- 0.0/199.7 kB ? eta -:--:--\n",
      "     ----- ------------------------------- 30.7/199.7 kB 660.6 kB/s eta 0:00:01\n",
      "     ----- ------------------------------- 30.7/199.7 kB 660.6 kB/s eta 0:00:01\n",
      "     ------------- ----------------------- 71.7/199.7 kB 491.5 kB/s eta 0:00:01\n",
      "     ---------------------- ------------- 122.9/199.7 kB 722.1 kB/s eta 0:00:01\n",
      "     ------------------------------------ 199.7/199.7 kB 869.1 kB/s eta 0:00:00\n",
      "Requirement already satisfied: CFFI>=1.0 in c:\\users\\omarf\\appdata\\local\\programs\\python\\python311\\lib\\site-packages (from sounddevice) (1.15.1)\n",
      "Requirement already satisfied: pycparser in c:\\users\\omarf\\appdata\\local\\programs\\python\\python311\\lib\\site-packages (from CFFI>=1.0->sounddevice) (2.21)\n",
      "Installing collected packages: sounddevice\n",
      "Successfully installed sounddevice-0.4.6\n"
     ]
    }
   ],
   "source": [
    "!pip install sounddevice"
   ]
  },
  {
   "cell_type": "code",
   "execution_count": 3,
   "id": "909cba04",
   "metadata": {},
   "outputs": [
    {
     "name": "stdout",
     "output_type": "stream",
     "text": [
      "Text-to-speech conversion complete. Saved as output_tts.mp3\n",
      "Recording...\n",
      "Recording finished.\n",
      "Audio recording complete. Saved as recorded_audio.wav\n"
     ]
    }
   ],
   "source": [
    "from gtts import gTTS\n",
    "import sounddevice as sd\n",
    "import numpy as np\n",
    "from scipy.io.wavfile import write\n",
    "\n",
    "def text_to_speech(text, output_file):\n",
    "    tts = gTTS(text)\n",
    "    tts.save(output_file)\n",
    "\n",
    "def record_audio(output_file, duration=5, sample_rate=44100):\n",
    "    print(\"Recording...\")\n",
    "\n",
    "    recording = sd.rec(int(duration * sample_rate), samplerate=sample_rate, channels=1, dtype=np.int16)\n",
    "    sd.wait()\n",
    "\n",
    "    print(\"Recording finished.\")\n",
    "    write(output_file, sample_rate, recording)\n",
    "\n",
    "text = \"I am Omar Faruk.This is text to speech converter\"\n",
    "output_file_tts = \"output_tts.mp3\"\n",
    "\n",
    "text_to_speech(text, output_file_tts)\n",
    "print(\"Text-to-speech conversion complete. Saved as\", output_file_tts)\n",
    "\n",
    "output_file_recording = \"recorded_audio.wav\"\n",
    "recording_duration = 5  # Duration of the recording in seconds\n",
    "\n",
    "record_audio(output_file_recording, recording_duration)\n",
    "print(\"Audio recording complete. Saved as\", output_file_recording)\n"
   ]
  },
  {
   "cell_type": "code",
   "execution_count": null,
   "id": "a659bdac",
   "metadata": {},
   "outputs": [],
   "source": []
  }
 ],
 "metadata": {
  "kernelspec": {
   "display_name": "Python 3 (ipykernel)",
   "language": "python",
   "name": "python3"
  },
  "language_info": {
   "codemirror_mode": {
    "name": "ipython",
    "version": 3
   },
   "file_extension": ".py",
   "mimetype": "text/x-python",
   "name": "python",
   "nbconvert_exporter": "python",
   "pygments_lexer": "ipython3",
   "version": "3.11.2"
  }
 },
 "nbformat": 4,
 "nbformat_minor": 5
}
